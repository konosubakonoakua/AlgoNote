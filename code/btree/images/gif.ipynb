{
 "cells": [
  {
   "cell_type": "code",
   "execution_count": 1,
   "metadata": {},
   "outputs": [],
   "source": [
    "# # 从leetcode上爬图片并生成gif\n",
    "# import imageio\n",
    "# from skimage.io import imread"
   ]
  },
  {
   "cell_type": "code",
   "execution_count": 2,
   "metadata": {},
   "outputs": [],
   "source": [
    "# url_sample = \"https://pic.leetcode-cn.com/Figures/binary_tree/level_traversal/Slide11.png\"\n",
    "# gif_name = \"level_order.gif\"\n",
    "# total_img_nums = 17\n",
    "\n",
    "# url_sample = \"https://pic.leetcode-cn.com/Figures/binary_tree/preorder_traversal/Slide13.png\"\n",
    "# gif_name = \"preorder_traversal.gif\"\n",
    "# total_img_nums = 19\n",
    "\n",
    "# url_sample = \"https://pic.leetcode-cn.com/Figures/binary_tree/inorder_traversal/Slide22.png\"\n",
    "# gif_name = \"inorder_traversal.gif\"\n",
    "# total_img_nums = 22\n",
    "\n",
    "# url_sample = \"https://pic.leetcode-cn.com/Figures/binary_tree/postorder_traversal/Slide19.png\"\n",
    "# gif_name = \"inorder_traversal.gif\"\n",
    "# # total_img_nums = 19\n",
    "\n",
    "# ext_suffix = \".\" + url_sample.split('/')[-1].split('.')[-1]\n",
    "# url_template = url_sample[:-6]\n",
    "# gif_duration = 1.0\n"
   ]
  },
  {
   "cell_type": "code",
   "execution_count": 10,
   "metadata": {},
   "outputs": [],
   "source": [
    "def getLeetcodeGif(url_sample: str, gif_name: str, gif_duration=1.0, src_img_ext: str = \".png\"):\n",
    "    # 从leetcode上爬图片并生成gif\n",
    "    from imageio import mimsave\n",
    "    from skimage.io import imread\n",
    "\n",
    "#     url_sample = \"https://pic.leetcode-cn.com/Figures/binary_tree/postorder_traversal/Slide19.png\"\n",
    "    gif_name = gif_name + \".gif\"\n",
    "    # total_img_nums = 19\n",
    "\n",
    "    ext_suffix = \".\" + url_sample.split('/')[-1].split('.')[-1]\n",
    "    url_template = url_sample[:-6]\n",
    "    gif_duration = 1.0\n",
    "\n",
    "    frames = []\n",
    "    ind = 1\n",
    "    while True:\n",
    "        url = url_template + str(ind).zfill(2) + ext_suffix\n",
    "        try:\n",
    "            img = imread(url)\n",
    "            print(\"GET >>> \" + url)\n",
    "            ind += 1\n",
    "            frames.append(img)\n",
    "        except Exception as err:\n",
    "            if ind > 3:\n",
    "                print(f\"Failed @ {ind}th image >>> {err}\")\n",
    "            else:\n",
    "                if ind == 3:\n",
    "                    print(f\"Failed @ third image >>> {err}\")\n",
    "                if ind == 2:\n",
    "                    print(f\"Failed @ sencod image >>> {err}\")\n",
    "                if ind == 1:\n",
    "                    print(f\"Failed @ first image >>> {err}\")\n",
    "            break\n",
    "\n",
    "    print(f\"Got {len(frames)} image(s)\")\n",
    "\n",
    "    mimsave(gif_name, frames, \"GIF\", duration=gif_duration)\n",
    "    \n",
    "    print(\"Done!\")\n"
   ]
  },
  {
   "cell_type": "code",
   "execution_count": 11,
   "metadata": {},
   "outputs": [
    {
     "name": "stdout",
     "output_type": "stream",
     "text": [
      "GET >>> https://pic.leetcode-cn.com/Figures/binary_tree/postorder_traversal/Slide01.png\n",
      "GET >>> https://pic.leetcode-cn.com/Figures/binary_tree/postorder_traversal/Slide02.png\n",
      "GET >>> https://pic.leetcode-cn.com/Figures/binary_tree/postorder_traversal/Slide03.png\n",
      "GET >>> https://pic.leetcode-cn.com/Figures/binary_tree/postorder_traversal/Slide04.png\n",
      "GET >>> https://pic.leetcode-cn.com/Figures/binary_tree/postorder_traversal/Slide05.png\n",
      "GET >>> https://pic.leetcode-cn.com/Figures/binary_tree/postorder_traversal/Slide06.png\n",
      "GET >>> https://pic.leetcode-cn.com/Figures/binary_tree/postorder_traversal/Slide07.png\n",
      "GET >>> https://pic.leetcode-cn.com/Figures/binary_tree/postorder_traversal/Slide08.png\n",
      "GET >>> https://pic.leetcode-cn.com/Figures/binary_tree/postorder_traversal/Slide09.png\n",
      "GET >>> https://pic.leetcode-cn.com/Figures/binary_tree/postorder_traversal/Slide10.png\n",
      "GET >>> https://pic.leetcode-cn.com/Figures/binary_tree/postorder_traversal/Slide11.png\n",
      "GET >>> https://pic.leetcode-cn.com/Figures/binary_tree/postorder_traversal/Slide12.png\n",
      "GET >>> https://pic.leetcode-cn.com/Figures/binary_tree/postorder_traversal/Slide13.png\n",
      "GET >>> https://pic.leetcode-cn.com/Figures/binary_tree/postorder_traversal/Slide14.png\n",
      "GET >>> https://pic.leetcode-cn.com/Figures/binary_tree/postorder_traversal/Slide15.png\n",
      "GET >>> https://pic.leetcode-cn.com/Figures/binary_tree/postorder_traversal/Slide16.png\n",
      "GET >>> https://pic.leetcode-cn.com/Figures/binary_tree/postorder_traversal/Slide17.png\n",
      "GET >>> https://pic.leetcode-cn.com/Figures/binary_tree/postorder_traversal/Slide18.png\n",
      "GET >>> https://pic.leetcode-cn.com/Figures/binary_tree/postorder_traversal/Slide19.png\n",
      "Failed @ 20th image >>> HTTP Error 404: Not Found\n",
      "Got 19 image(s)\n",
      "Done!\n"
     ]
    }
   ],
   "source": [
    "getLeetcodeGif(\n",
    "    \"https://pic.leetcode-cn.com/Figures/binary_tree/postorder_traversal/Slide19.png\",\n",
    "    \"postorder_traversal\"\n",
    ")"
   ]
  },
  {
   "cell_type": "code",
   "execution_count": 12,
   "metadata": {},
   "outputs": [
    {
     "name": "stdout",
     "output_type": "stream",
     "text": [
      "GET >>> https://pic.leetcode-cn.com/Figures/binary_tree/top_down/Slide01.png\n",
      "GET >>> https://pic.leetcode-cn.com/Figures/binary_tree/top_down/Slide02.png\n",
      "GET >>> https://pic.leetcode-cn.com/Figures/binary_tree/top_down/Slide03.png\n",
      "GET >>> https://pic.leetcode-cn.com/Figures/binary_tree/top_down/Slide04.png\n",
      "GET >>> https://pic.leetcode-cn.com/Figures/binary_tree/top_down/Slide05.png\n",
      "GET >>> https://pic.leetcode-cn.com/Figures/binary_tree/top_down/Slide06.png\n",
      "GET >>> https://pic.leetcode-cn.com/Figures/binary_tree/top_down/Slide07.png\n",
      "GET >>> https://pic.leetcode-cn.com/Figures/binary_tree/top_down/Slide08.png\n",
      "GET >>> https://pic.leetcode-cn.com/Figures/binary_tree/top_down/Slide09.png\n",
      "GET >>> https://pic.leetcode-cn.com/Figures/binary_tree/top_down/Slide10.png\n",
      "GET >>> https://pic.leetcode-cn.com/Figures/binary_tree/top_down/Slide11.png\n",
      "GET >>> https://pic.leetcode-cn.com/Figures/binary_tree/top_down/Slide12.png\n",
      "Failed @ 13th image >>> HTTP Error 404: Not Found\n",
      "Got 12 image(s)\n",
      "Done!\n"
     ]
    }
   ],
   "source": [
    "getLeetcodeGif(\n",
    "    \"https://pic.leetcode-cn.com/Figures/binary_tree/top_down/Slide01.png\",\n",
    "    \"maxdepth_topdown\"\n",
    ")"
   ]
  },
  {
   "cell_type": "code",
   "execution_count": 13,
   "metadata": {},
   "outputs": [
    {
     "name": "stdout",
     "output_type": "stream",
     "text": [
      "GET >>> https://pic.leetcode-cn.com/Figures/binary_tree/bottom_up/Slide01.png\n",
      "GET >>> https://pic.leetcode-cn.com/Figures/binary_tree/bottom_up/Slide02.png\n",
      "GET >>> https://pic.leetcode-cn.com/Figures/binary_tree/bottom_up/Slide03.png\n",
      "GET >>> https://pic.leetcode-cn.com/Figures/binary_tree/bottom_up/Slide04.png\n",
      "GET >>> https://pic.leetcode-cn.com/Figures/binary_tree/bottom_up/Slide05.png\n",
      "GET >>> https://pic.leetcode-cn.com/Figures/binary_tree/bottom_up/Slide06.png\n",
      "GET >>> https://pic.leetcode-cn.com/Figures/binary_tree/bottom_up/Slide07.png\n",
      "GET >>> https://pic.leetcode-cn.com/Figures/binary_tree/bottom_up/Slide08.png\n",
      "GET >>> https://pic.leetcode-cn.com/Figures/binary_tree/bottom_up/Slide09.png\n",
      "GET >>> https://pic.leetcode-cn.com/Figures/binary_tree/bottom_up/Slide10.png\n",
      "GET >>> https://pic.leetcode-cn.com/Figures/binary_tree/bottom_up/Slide11.png\n",
      "GET >>> https://pic.leetcode-cn.com/Figures/binary_tree/bottom_up/Slide12.png\n",
      "GET >>> https://pic.leetcode-cn.com/Figures/binary_tree/bottom_up/Slide13.png\n",
      "GET >>> https://pic.leetcode-cn.com/Figures/binary_tree/bottom_up/Slide14.png\n",
      "GET >>> https://pic.leetcode-cn.com/Figures/binary_tree/bottom_up/Slide15.png\n",
      "GET >>> https://pic.leetcode-cn.com/Figures/binary_tree/bottom_up/Slide16.png\n",
      "GET >>> https://pic.leetcode-cn.com/Figures/binary_tree/bottom_up/Slide17.png\n",
      "GET >>> https://pic.leetcode-cn.com/Figures/binary_tree/bottom_up/Slide18.png\n",
      "GET >>> https://pic.leetcode-cn.com/Figures/binary_tree/bottom_up/Slide19.png\n",
      "GET >>> https://pic.leetcode-cn.com/Figures/binary_tree/bottom_up/Slide20.png\n",
      "GET >>> https://pic.leetcode-cn.com/Figures/binary_tree/bottom_up/Slide21.png\n",
      "GET >>> https://pic.leetcode-cn.com/Figures/binary_tree/bottom_up/Slide22.png\n",
      "GET >>> https://pic.leetcode-cn.com/Figures/binary_tree/bottom_up/Slide23.png\n",
      "GET >>> https://pic.leetcode-cn.com/Figures/binary_tree/bottom_up/Slide24.png\n",
      "GET >>> https://pic.leetcode-cn.com/Figures/binary_tree/bottom_up/Slide25.png\n",
      "Failed @ 26th image >>> HTTP Error 404: Not Found\n",
      "Got 25 image(s)\n",
      "Done!\n"
     ]
    }
   ],
   "source": [
    "getLeetcodeGif(\n",
    "    \"https://pic.leetcode-cn.com/Figures/binary_tree/bottom_up/Slide01.png\",\n",
    "    \"maxdepth_bottomup\"\n",
    ")"
   ]
  },
  {
   "cell_type": "code",
   "execution_count": null,
   "metadata": {},
   "outputs": [],
   "source": []
  }
 ],
 "metadata": {
  "kernelspec": {
   "display_name": "Python [conda env:c10]",
   "language": "python",
   "name": "conda-env-c10-py"
  },
  "language_info": {
   "codemirror_mode": {
    "name": "ipython",
    "version": 3
   },
   "file_extension": ".py",
   "mimetype": "text/x-python",
   "name": "python",
   "nbconvert_exporter": "python",
   "pygments_lexer": "ipython3",
   "version": "3.8.5"
  }
 },
 "nbformat": 4,
 "nbformat_minor": 4
}
